{
 "cells": [
  {
   "cell_type": "code",
   "execution_count": 16,
   "id": "1668dd32",
   "metadata": {},
   "outputs": [],
   "source": [
    "import cv2\n",
    "from colorthief import ColorThief"
   ]
  },
  {
   "cell_type": "code",
   "execution_count": 18,
   "id": "c82d94cb",
   "metadata": {},
   "outputs": [
    {
     "name": "stdout",
     "output_type": "stream",
     "text": [
      "[(127, 134, 136), (33, 31, 48), (155, 175, 208)]\n"
     ]
    }
   ],
   "source": [
    "camera=cv2.VideoCapture(0)\n",
    "while True:\n",
    "    _,image=camera.read()\n",
    "    cv2.imshow('image',image)\n",
    "    if cv2.waitKey(1) & 0xFF==ord('s'):\n",
    "        cv2.imwrite('image.jpg',image)\n",
    "        break\n",
    "camera.release()\n",
    "cv2.destroyAllWindows()\n",
    "\n",
    "def getColors():\n",
    "    colorthief=ColorThief('image.jpg')\n",
    "    colors=colorthief.get_palette(color_count=2)\n",
    "    print(colors)\n",
    "    \n",
    "getColors()\n"
   ]
  },
  {
   "cell_type": "code",
   "execution_count": null,
   "id": "12c43c2c",
   "metadata": {},
   "outputs": [],
   "source": []
  },
  {
   "cell_type": "code",
   "execution_count": null,
   "id": "6d7bf6e4",
   "metadata": {},
   "outputs": [],
   "source": []
  },
  {
   "cell_type": "code",
   "execution_count": null,
   "id": "4af349ea",
   "metadata": {},
   "outputs": [],
   "source": []
  },
  {
   "cell_type": "code",
   "execution_count": null,
   "id": "421f2fe8",
   "metadata": {},
   "outputs": [],
   "source": []
  }
 ],
 "metadata": {
  "kernelspec": {
   "display_name": "Python 3 (ipykernel)",
   "language": "python",
   "name": "python3"
  },
  "language_info": {
   "codemirror_mode": {
    "name": "ipython",
    "version": 3
   },
   "file_extension": ".py",
   "mimetype": "text/x-python",
   "name": "python",
   "nbconvert_exporter": "python",
   "pygments_lexer": "ipython3",
   "version": "3.9.12"
  }
 },
 "nbformat": 4,
 "nbformat_minor": 5
}
